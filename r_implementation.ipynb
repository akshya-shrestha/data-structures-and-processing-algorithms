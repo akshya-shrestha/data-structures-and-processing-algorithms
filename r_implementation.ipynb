{
 "cells": [
  {
   "cell_type": "markdown",
   "id": "05762bc0",
   "metadata": {},
   "source": [
    "<h1>Week 8</h1>"
   ]
  },
  {
   "cell_type": "markdown",
   "id": "946825dd",
   "metadata": {},
   "source": [
    "<h2>Question 1</h2>"
   ]
  },
  {
   "cell_type": "code",
   "execution_count": null,
   "id": "1045813a",
   "metadata": {},
   "outputs": [],
   "source": [
    "# question 1\n",
    "\n",
    "# importing libraries\n",
    "library(tidyverse)\n",
    "library(tidyr)\n",
    "\n",
    "# loading the who dataset\n",
    "df<-tidyr::who\n",
    "\n",
    "# using pivot longer function to combine colums from new_sp_m014\n",
    "# to newrel_f65\n",
    "who1<-pivot_longer(df, cols = new_sp_m014:newrel_f65,\n",
    "                       names_to = \"Key\",\n",
    "                       values_to = \"Cases\",\n",
    "                       values_drop_na = TRUE)\n",
    "view(who1)"
   ]
  },
  {
   "cell_type": "markdown",
   "id": "92173cf9",
   "metadata": {},
   "source": [
    "<h2>Question 2</h2>"
   ]
  },
  {
   "cell_type": "code",
   "execution_count": null,
   "id": "bc6653d8",
   "metadata": {},
   "outputs": [],
   "source": [
    "# question 2\n",
    "\n",
    "# replacing the newrel name to new_rel using pipe operator in Key column\n",
    "who2 <- who1 %>% mutate_at(\"Key\", str_replace, \"newrel\", \"rew_rel\")\n",
    "\n",
    "# viewing the new dataset\n",
    "view(who2)"
   ]
  },
  {
   "cell_type": "markdown",
   "id": "6063cca7",
   "metadata": {},
   "source": [
    "<h2>Question 3</h2>"
   ]
  },
  {
   "cell_type": "code",
   "execution_count": null,
   "id": "39682aad",
   "metadata": {},
   "outputs": [],
   "source": [
    "# question 3\n",
    "\n",
    "# using pipe operator to separate the values of key column\n",
    "who3 <- who2 %>% separate(Key, c(\"new\", \"type\", \"sexage\"), sep = \"_\")\n",
    "\n",
    "# viewing new who3 dataset\n",
    "view(who3)"
   ]
  },
  {
   "cell_type": "markdown",
   "id": "d466043e",
   "metadata": {},
   "source": [
    "<h2>Question 4</h2>"
   ]
  },
  {
   "cell_type": "code",
   "execution_count": null,
   "id": "bc9cb867",
   "metadata": {},
   "outputs": [],
   "source": [
    "# question 4\n",
    "\n",
    "# separating the sexage column into sex and age column \n",
    "# separation is done by findin the letter and numbers\n",
    "who4 <- who3 %>% separate(\"sexage\",\n",
    "                          into = c(\"sex\", \"age\"),\n",
    "                          sep = \"(?<=[A-Za-z])(?=[0-9])\")\n",
    "# viewing who4 dataset\n",
    "view(who4)"
   ]
  },
  {
   "cell_type": "markdown",
   "id": "03417028",
   "metadata": {},
   "source": [
    "<h2>Question 5</h2>"
   ]
  },
  {
   "cell_type": "code",
   "execution_count": null,
   "id": "634ee6f2",
   "metadata": {},
   "outputs": [],
   "source": [
    "# question 5\n",
    "\n",
    "# viewing the head data of who4 dataset\n",
    "view(head(who4, 5))\n",
    "\n",
    "# viewing the tail data of who4 dataset\n",
    "view(tail(who4, 5))"
   ]
  },
  {
   "cell_type": "markdown",
   "id": "9c45a173",
   "metadata": {},
   "source": [
    "<h2>Question 6</h2>"
   ]
  },
  {
   "cell_type": "code",
   "execution_count": null,
   "id": "ae9d8ac9",
   "metadata": {},
   "outputs": [],
   "source": [
    "# question 6\n",
    "\n",
    "# saving the who4 data set in who4.csv file\n",
    "write.csv(who4,file=\"who4.csv\")"
   ]
  },
  {
   "cell_type": "markdown",
   "id": "483537da",
   "metadata": {},
   "source": [
    "<h1>Week 9</h1>"
   ]
  },
  {
   "cell_type": "markdown",
   "id": "8e4c9406",
   "metadata": {},
   "source": [
    "<h2>Question 1</h2>"
   ]
  },
  {
   "cell_type": "code",
   "execution_count": 4,
   "id": "96f81d92",
   "metadata": {},
   "outputs": [
    {
     "name": "stderr",
     "output_type": "stream",
     "text": [
      "Warning message:\n",
      "\"package 'statip' was built under R version 3.6.3\""
     ]
    },
    {
     "name": "stdout",
     "output_type": "stream",
     "text": [
      "[1] \"The head data of dataset is: \"\n"
     ]
    },
    {
     "data": {
      "text/html": [
       "<table>\n",
       "<thead><tr><th scope=col>Sepal.Length</th><th scope=col>Sepal.Width</th><th scope=col>Petal.Length</th><th scope=col>Petal.Width</th><th scope=col>Species</th></tr></thead>\n",
       "<tbody>\n",
       "\t<tr><td>5.1   </td><td>3.5   </td><td>1.4   </td><td>0.2   </td><td>setosa</td></tr>\n",
       "\t<tr><td>4.9   </td><td>3.0   </td><td>1.4   </td><td>0.2   </td><td>setosa</td></tr>\n",
       "\t<tr><td>4.7   </td><td>3.2   </td><td>1.3   </td><td>0.2   </td><td>setosa</td></tr>\n",
       "\t<tr><td>4.6   </td><td>3.1   </td><td>1.5   </td><td>0.2   </td><td>setosa</td></tr>\n",
       "\t<tr><td>5.0   </td><td>3.6   </td><td>1.4   </td><td>0.2   </td><td>setosa</td></tr>\n",
       "\t<tr><td>5.4   </td><td>3.9   </td><td>1.7   </td><td>0.4   </td><td>setosa</td></tr>\n",
       "</tbody>\n",
       "</table>\n"
      ],
      "text/latex": [
       "\\begin{tabular}{r|lllll}\n",
       " Sepal.Length & Sepal.Width & Petal.Length & Petal.Width & Species\\\\\n",
       "\\hline\n",
       "\t 5.1    & 3.5    & 1.4    & 0.2    & setosa\\\\\n",
       "\t 4.9    & 3.0    & 1.4    & 0.2    & setosa\\\\\n",
       "\t 4.7    & 3.2    & 1.3    & 0.2    & setosa\\\\\n",
       "\t 4.6    & 3.1    & 1.5    & 0.2    & setosa\\\\\n",
       "\t 5.0    & 3.6    & 1.4    & 0.2    & setosa\\\\\n",
       "\t 5.4    & 3.9    & 1.7    & 0.4    & setosa\\\\\n",
       "\\end{tabular}\n"
      ],
      "text/markdown": [
       "\n",
       "| Sepal.Length | Sepal.Width | Petal.Length | Petal.Width | Species |\n",
       "|---|---|---|---|---|\n",
       "| 5.1    | 3.5    | 1.4    | 0.2    | setosa |\n",
       "| 4.9    | 3.0    | 1.4    | 0.2    | setosa |\n",
       "| 4.7    | 3.2    | 1.3    | 0.2    | setosa |\n",
       "| 4.6    | 3.1    | 1.5    | 0.2    | setosa |\n",
       "| 5.0    | 3.6    | 1.4    | 0.2    | setosa |\n",
       "| 5.4    | 3.9    | 1.7    | 0.4    | setosa |\n",
       "\n"
      ],
      "text/plain": [
       "  Sepal.Length Sepal.Width Petal.Length Petal.Width Species\n",
       "1 5.1          3.5         1.4          0.2         setosa \n",
       "2 4.9          3.0         1.4          0.2         setosa \n",
       "3 4.7          3.2         1.3          0.2         setosa \n",
       "4 4.6          3.1         1.5          0.2         setosa \n",
       "5 5.0          3.6         1.4          0.2         setosa \n",
       "6 5.4          3.9         1.7          0.4         setosa "
      ]
     },
     "metadata": {},
     "output_type": "display_data"
    },
    {
     "name": "stdout",
     "output_type": "stream",
     "text": [
      "[1] \"The mean of the sepal length is: \" \"5.84333333333333\"                 \n",
      "[1] \"The median of the sepal length is: \" \"5.8\"                                \n",
      "[1] \"The mode of the sepal length is: \" \"5\"                                \n"
     ]
    }
   ],
   "source": [
    "# viewing the first 6 data in the dataset iris\n",
    "library(statip)\n",
    "\n",
    "print(\"The head data of dataset is: \")\n",
    "head(iris, 6)\n",
    "\n",
    "# Q1. Compute the mean, median and mode of sepal length\n",
    "\n",
    "# The mean of sepal length\n",
    "sepal_length_mean <-  mean(iris$Sepal.Length, na.rm = TRUE)\n",
    "print(c(\"The mean of the sepal length is: \", sepal_length_mean))\n",
    "\n",
    "# The median of sepal length\n",
    "sepal_length_median <-  median(iris$Sepal.Length, na.rm = TRUE)\n",
    "print(c(\"The median of the sepal length is: \", sepal_length_median))\n",
    "\n",
    "# The mode of sepal length\n",
    "sepal_length_mode <-  mfv(iris$Sepal.Length, na_rm = TRUE)\n",
    "print(c(\"The mode of the sepal length is: \", sepal_length_mode))"
   ]
  },
  {
   "cell_type": "markdown",
   "id": "f4dac8f2",
   "metadata": {},
   "source": [
    "<h2>Question 2</h2>"
   ]
  },
  {
   "cell_type": "code",
   "execution_count": 5,
   "id": "2f600eb9",
   "metadata": {},
   "outputs": [
    {
     "name": "stdout",
     "output_type": "stream",
     "text": [
      "[1] \"The minimum of the sepal length is:  4.3\"\n",
      "[1] \"The maximum of the sepal length is:  7.9\"\n",
      "[1] \"The range of the sepal length is:  3.6\"\n"
     ]
    }
   ],
   "source": [
    "# Q2. Compute how “spread out” the data are. Here you need to \n",
    "# calculate the minimum, maximum and range of sepal length\n",
    "\n",
    "# The minium of sepal length\n",
    "sepal_length_minimum <-  min(iris$Sepal.Length, na.rm = TRUE)\n",
    "print(paste(\"The minimum of the sepal length is: \", sepal_length_minimum))\n",
    "\n",
    "# The maximum of sepal length\n",
    "sepal_length_maximum <-  max(iris$Sepal.Length, na.rm = TRUE)\n",
    "print(paste(\"The maximum of the sepal length is: \", sepal_length_maximum))\n",
    "\n",
    "# The range of sepal length\n",
    "sepal_length_range <- sepal_length_maximum - sepal_length_minimum\n",
    "print(paste(\"The range of the sepal length is: \", sepal_length_range))"
   ]
  },
  {
   "cell_type": "markdown",
   "id": "6464a23e",
   "metadata": {},
   "source": [
    "<h2>Question 3</h2>"
   ]
  },
  {
   "cell_type": "code",
   "execution_count": 6,
   "id": "5a4ca266",
   "metadata": {},
   "outputs": [
    {
     "name": "stdout",
     "output_type": "stream",
     "text": [
      "[1] \"The interquartile range of the sepal length is:  1.3\"\n",
      "[1] \"The quantile of the sepal length is:  4.3\"\n",
      "[2] \"The quantile of the sepal length is:  5.1\"\n",
      "[3] \"The quantile of the sepal length is:  5.8\"\n",
      "[4] \"The quantile of the sepal length is:  6.4\"\n",
      "[5] \"The quantile of the sepal length is:  7.9\"\n"
     ]
    }
   ],
   "source": [
    "# Q3. Calculate the interquartile (IQR) range of sepal length.\n",
    "# Use the function quantile() to measure quantiles for the same variable, sepal length, and \n",
    "# comment what is the difference and relation of these two functions regarding the results shown on your screen?\n",
    "\n",
    "# Interquartile range (IQR) of sepal length\n",
    "sepal_length_iqr <- IQR(iris$Sepal.Length, na.rm = TRUE)\n",
    "print(paste(\"The interquartile range of the sepal length is: \", sepal_length_iqr))\n",
    "\n",
    "# Quantile of sepal length\n",
    "sepal_length_quantile <- quantile(iris$Sepal.Length, na.rm = TRUE)\n",
    "print(paste(\"The quantile of the sepal length is: \", sepal_length_quantile))\n",
    "\n",
    "# Here the interquartile range is the difference between 3rd quartile and 1st quartile which is 1.3 in this case. \n",
    "# Quantile divides the data in equal portions. In this case, quantile in 75% is 6.4 which is also a 3rd quartile and \n",
    "# quantile in 25% is 5.1 which is also a 2nd quartile. Hence, the difference between 3rd and 2nd quartile\n",
    "# i.e., 6.4-5.1 = 1.3 which is the interquartile range. "
   ]
  },
  {
   "cell_type": "markdown",
   "id": "fd1f3d37",
   "metadata": {},
   "source": [
    "<h2>Question 4</h2>"
   ]
  },
  {
   "cell_type": "code",
   "execution_count": 7,
   "id": "c572f894",
   "metadata": {},
   "outputs": [
    {
     "name": "stdout",
     "output_type": "stream",
     "text": [
      "[1] \"The variance of the sepal length is:  0.685693512304251\"\n",
      "[1] \"The standard deviation of the sepal length is:  0.828066127977863\"\n"
     ]
    }
   ],
   "source": [
    "# Q4. Compute the variance (1 mark) and standard deviation of sepal length\n",
    "\n",
    "# Variance of sepal length\n",
    "sepal_length_variance <- var(iris$Sepal.Length, na.rm = TRUE)\n",
    "print(paste(\"The variance of the sepal length is: \", sepal_length_variance))\n",
    "\n",
    "# Standard deviation of sepal length\n",
    "sepal_length_standard_deviation <- sd(iris$Sepal.Length, na.rm = TRUE)\n",
    "print(paste(\"The standard deviation of the sepal length is: \", sepal_length_standard_deviation))"
   ]
  },
  {
   "cell_type": "markdown",
   "id": "7127142e",
   "metadata": {},
   "source": [
    "<h2>Question 5</h2>"
   ]
  },
  {
   "cell_type": "code",
   "execution_count": 8,
   "id": "790e72f1",
   "metadata": {},
   "outputs": [
    {
     "name": "stdout",
     "output_type": "stream",
     "text": [
      "[1] \"The summary of the Sepal Length variable is:\"\n",
      "   Min. 1st Qu.  Median    Mean 3rd Qu.    Max. \n",
      "  4.300   5.100   5.800   5.843   6.400   7.900 \n"
     ]
    }
   ],
   "source": [
    "# Q5. Choose the right function to show min, max, mean, median,\n",
    "# 1st and 3rd quantiles all at once of the variable sepal length\n",
    "\n",
    "# Summary of the sepal length\n",
    "sepal_length_summary <- summary(iris$Sepal.Length, na.rm = TRUE)\n",
    "print(\"The summary of the Sepal Length variable is:\" )\n",
    "print(sepal_length_summary)"
   ]
  },
  {
   "cell_type": "markdown",
   "id": "c5c35b87",
   "metadata": {},
   "source": [
    "<h2>Question 6</h2>"
   ]
  },
  {
   "cell_type": "code",
   "execution_count": 9,
   "id": "4075a8b4",
   "metadata": {},
   "outputs": [
    {
     "name": "stdout",
     "output_type": "stream",
     "text": [
      "[1] \"The mean of dataset is: \"\n"
     ]
    },
    {
     "data": {
      "text/html": [
       "<dl class=dl-horizontal>\n",
       "\t<dt>Sepal.Length</dt>\n",
       "\t\t<dd>5.84333333333333</dd>\n",
       "\t<dt>Sepal.Width</dt>\n",
       "\t\t<dd>3.05733333333333</dd>\n",
       "\t<dt>Petal.Length</dt>\n",
       "\t\t<dd>3.758</dd>\n",
       "\t<dt>Petal.Width</dt>\n",
       "\t\t<dd>1.19933333333333</dd>\n",
       "</dl>\n"
      ],
      "text/latex": [
       "\\begin{description*}\n",
       "\\item[Sepal.Length] 5.84333333333333\n",
       "\\item[Sepal.Width] 3.05733333333333\n",
       "\\item[Petal.Length] 3.758\n",
       "\\item[Petal.Width] 1.19933333333333\n",
       "\\end{description*}\n"
      ],
      "text/markdown": [
       "Sepal.Length\n",
       ":   5.84333333333333Sepal.Width\n",
       ":   3.05733333333333Petal.Length\n",
       ":   3.758Petal.Width\n",
       ":   1.19933333333333\n",
       "\n"
      ],
      "text/plain": [
       "Sepal.Length  Sepal.Width Petal.Length  Petal.Width \n",
       "    5.843333     3.057333     3.758000     1.199333 "
      ]
     },
     "metadata": {},
     "output_type": "display_data"
    },
    {
     "name": "stdout",
     "output_type": "stream",
     "text": [
      "[1] \"The quantile of dataset is: \"\n"
     ]
    },
    {
     "data": {
      "text/html": [
       "<table>\n",
       "<thead><tr><th></th><th scope=col>Sepal.Length</th><th scope=col>Sepal.Width</th><th scope=col>Petal.Length</th><th scope=col>Petal.Width</th></tr></thead>\n",
       "<tbody>\n",
       "\t<tr><th scope=row>0%</th><td>4.3 </td><td>2.0 </td><td>1.00</td><td>0.1 </td></tr>\n",
       "\t<tr><th scope=row>25%</th><td>5.1 </td><td>2.8 </td><td>1.60</td><td>0.3 </td></tr>\n",
       "\t<tr><th scope=row>50%</th><td>5.8 </td><td>3.0 </td><td>4.35</td><td>1.3 </td></tr>\n",
       "\t<tr><th scope=row>75%</th><td>6.4 </td><td>3.3 </td><td>5.10</td><td>1.8 </td></tr>\n",
       "\t<tr><th scope=row>100%</th><td>7.9 </td><td>4.4 </td><td>6.90</td><td>2.5 </td></tr>\n",
       "</tbody>\n",
       "</table>\n"
      ],
      "text/latex": [
       "\\begin{tabular}{r|llll}\n",
       "  & Sepal.Length & Sepal.Width & Petal.Length & Petal.Width\\\\\n",
       "\\hline\n",
       "\t0\\% & 4.3  & 2.0  & 1.00 & 0.1 \\\\\n",
       "\t25\\% & 5.1  & 2.8  & 1.60 & 0.3 \\\\\n",
       "\t50\\% & 5.8  & 3.0  & 4.35 & 1.3 \\\\\n",
       "\t75\\% & 6.4  & 3.3  & 5.10 & 1.8 \\\\\n",
       "\t100\\% & 7.9  & 4.4  & 6.90 & 2.5 \\\\\n",
       "\\end{tabular}\n"
      ],
      "text/markdown": [
       "\n",
       "| <!--/--> | Sepal.Length | Sepal.Width | Petal.Length | Petal.Width |\n",
       "|---|---|---|---|---|\n",
       "| 0% | 4.3  | 2.0  | 1.00 | 0.1  |\n",
       "| 25% | 5.1  | 2.8  | 1.60 | 0.3  |\n",
       "| 50% | 5.8  | 3.0  | 4.35 | 1.3  |\n",
       "| 75% | 6.4  | 3.3  | 5.10 | 1.8  |\n",
       "| 100% | 7.9  | 4.4  | 6.90 | 2.5  |\n",
       "\n"
      ],
      "text/plain": [
       "     Sepal.Length Sepal.Width Petal.Length Petal.Width\n",
       "0%   4.3          2.0         1.00         0.1        \n",
       "25%  5.1          2.8         1.60         0.3        \n",
       "50%  5.8          3.0         4.35         1.3        \n",
       "75%  6.4          3.3         5.10         1.8        \n",
       "100% 7.9          4.4         6.90         2.5        "
      ]
     },
     "metadata": {},
     "output_type": "display_data"
    }
   ],
   "source": [
    "# Q6. Use sapply() to compute the mean (1 marks) and \n",
    "# quantiles (1 marks) of each column in the dataset iris.\n",
    "\n",
    "print(\"The mean of dataset is: \")\n",
    "mean6 <- sapply(iris[1:ncol(iris)-1], mean, na.rm = TRUE)\n",
    "mean6\n",
    "\n",
    "print(\"The quantile of dataset is: \")\n",
    "# sapply(iris$Sepal.Length, quantile)\n",
    "quantile6 <- sapply(iris[1:ncol(iris)-1], quantile, na.rm = TRUE)\n",
    "quantile6"
   ]
  },
  {
   "cell_type": "markdown",
   "id": "15434f4a",
   "metadata": {},
   "source": [
    "<h2>Question 7</h2>"
   ]
  },
  {
   "cell_type": "code",
   "execution_count": 10,
   "id": "264a9bda",
   "metadata": {},
   "outputs": [
    {
     "data": {
      "image/png": "[encoded data removed]",
      "text/plain": [
       "Plot with title \"Histogram for sepal length\""
      ]
     },
     "metadata": {},
     "output_type": "display_data"
    }
   ],
   "source": [
    "# Question 7\n",
    "\n",
    "# plotting the sepal length in histogram \n",
    "hist(iris$Sepal.Length,\n",
    "    main = \"Histogram for sepal length\",\n",
    "    xlab=\"Sepal Length\",\n",
    "    border=\"blue\",\n",
    "    col=\"green\")"
   ]
  },
  {
   "cell_type": "markdown",
   "id": "74795d0f",
   "metadata": {},
   "source": [
    "<h2>Question 8</h2>"
   ]
  },
  {
   "cell_type": "code",
   "execution_count": 11,
   "id": "ac1bbcb5",
   "metadata": {},
   "outputs": [
    {
     "data": {
      "image/png": "[encoded data removed]",
      "text/plain": [
       "Plot with title \"Iris Data Set\""
      ]
     },
     "metadata": {},
     "output_type": "display_data"
    }
   ],
   "source": [
    "# Question 8\n",
    "\n",
    "# plotting the columns of iris dataset in box plot\n",
    "boxplot(iris[1:4], \n",
    "        main = \"Iris Data Set\", \n",
    "        xlab = \"Data set parameters\")"
   ]
  },
  {
   "cell_type": "markdown",
   "id": "f7ae2450",
   "metadata": {},
   "source": [
    "<h2>Question 9</h2>"
   ]
  },
  {
   "cell_type": "code",
   "execution_count": 12,
   "id": "658b946f",
   "metadata": {},
   "outputs": [
    {
     "data": {
      "image/png": "[encoded data removed]",
      "text/plain": [
       "Plot with title \"Normal Q-Q Plot\""
      ]
     },
     "metadata": {},
     "output_type": "display_data"
    }
   ],
   "source": [
    "# question 9\n",
    "\n",
    "# using qqnorm to produce the normal quantile-quantile plot of sepal length\n",
    "qqnorm(iris$Sepal.Length, col='red')\n",
    "\n",
    "# using qqline to add reference line in QQ plot\n",
    "qqline(iris$Sepal.Length, col='blue', lwd=2)"
   ]
  },
  {
   "cell_type": "markdown",
   "id": "68e17244",
   "metadata": {},
   "source": [
    "<h1>Week 10</h1>"
   ]
  },
  {
   "cell_type": "markdown",
   "id": "9e28b3e4",
   "metadata": {},
   "source": [
    "<h2>Question 1</h2>"
   ]
  },
  {
   "cell_type": "code",
   "execution_count": null,
   "id": "7f28aa7a",
   "metadata": {},
   "outputs": [],
   "source": [
    "# question 1\n",
    "\n",
    "# loading the mpg data for highway\n",
    "ggplot(data = mpg) +\n",
    "  geom_point(mapping = aes(x = manufacturer, y = cty, color = manufacturer))\n",
    "\n",
    "# loading the mpg data for highway\n",
    "ggplot(data = mpg) +\n",
    "  geom_point(mapping = aes(x = manufacturer, y = hwy, color = manufacturer))"
   ]
  },
  {
   "cell_type": "markdown",
   "id": "1fb12292",
   "metadata": {},
   "source": [
    "<h2>Question 2</h2>"
   ]
  },
  {
   "cell_type": "code",
   "execution_count": null,
   "id": "f062d8ed",
   "metadata": {},
   "outputs": [],
   "source": [
    "# question 2\n",
    "\n",
    "# loading the mpg data with displ size against city \n",
    "g <- ggplot(data = mpg) +\n",
    "  geom_point(mapping = aes(x = displ, y = cty, color=class))\n",
    "g + facet_wrap(~ class, nrow = 2)"
   ]
  },
  {
   "cell_type": "markdown",
   "id": "52db2f06",
   "metadata": {},
   "source": [
    "<h2>Question 3</h2>"
   ]
  },
  {
   "cell_type": "code",
   "execution_count": null,
   "id": "22bee1b2",
   "metadata": {},
   "outputs": [],
   "source": [
    "# question 3\n",
    "\n",
    "# plotting the mpg data with displ range in city categorised by the number of \n",
    "# cylinders and the drive type\n",
    "plot3_2 <- ggplot(data = mpg) +\n",
    "  geom_point(mapping = aes(x = displ, y = cty, color=class))\n",
    "plot3_2 + facet_grid(drv ~ cyl)\n",
    "\n",
    "# plotting the mpg data with displ range in highway categorised by the number of \n",
    "# cylinders and the drive type\n",
    "plot3_1 <- ggplot(data = mpg) +\n",
    "  geom_point(mapping = aes(x = displ, y = hwy, color=class))\n",
    "plot3_1 + facet_grid(drv ~ cyl)\n"
   ]
  },
  {
   "cell_type": "code",
   "execution_count": null,
   "id": "0d9c1246",
   "metadata": {},
   "outputs": [],
   "source": []
  }
 ],
 "metadata": {
  "kernelspec": {
   "display_name": "R",
   "language": "R",
   "name": "ir"
  },
  "language_info": {
   "codemirror_mode": "r",
   "file_extension": ".r",
   "mimetype": "text/x-r-source",
   "name": "R",
   "pygments_lexer": "r",
   "version": "3.6.1"
  }
 },
 "nbformat": 4,
 "nbformat_minor": 5
}
